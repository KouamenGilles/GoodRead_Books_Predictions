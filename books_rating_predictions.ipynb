{
 "cells": [
  {
   "cell_type": "markdown",
   "id": "c68cdb45",
   "metadata": {},
   "source": [
    "# BOOK RATING PREDICTIONS\n",
    "\n",
    "## Content\n",
    "\n",
    "* Data exportation and exploration\n",
    "* Data cleaning and feature engineering\n",
    "* Data analysis and visualization\n",
    "* Data preparation for our model\n",
    "* Building Machine Learning Models and make predictions.\n",
    "* Compare models accuracy on test data.\n",
    "\n"
   ]
  },
  {
   "cell_type": "code",
   "execution_count": 265,
   "id": "7b2d6072",
   "metadata": {},
   "outputs": [],
   "source": [
    "# Import package\n",
    "\n",
    "import pandas as pd\n",
    "import matplotlib.pyplot as plt\n",
    "import numpy as np\n",
    "import seaborn as sns\n",
    "from sklearn.model_selection import train_test_split\n",
    "from sklearn.linear_model import LinearRegression\n",
    "from sklearn import metrics\n",
    "from sklearn.metrics import classification_report\n",
    "from sklearn.tree import DecisionTreeRegressor \n",
    "from sklearn.pipeline import Pipeline\n",
    "from sklearn.impute import SimpleImputer\n",
    "\n",
    "from sklearn.preprocessing import StandardScaler\n",
    "from sklearn.compose import ColumnTransformer\n",
    "from sklearn.ensemble import RandomForestRegressor\n",
    "from sklearn.model_selection import GridSearchCV\n"
   ]
  },
  {
   "cell_type": "markdown",
   "id": "faa06639",
   "metadata": {},
   "source": [
    "## 1. Exportation and data data exploration"
   ]
  },
  {
   "cell_type": "code",
   "execution_count": 319,
   "id": "e2b79e1a",
   "metadata": {},
   "outputs": [],
   "source": [
    "# Read the data\n",
    "df = pd.read_csv(\"books.csv\")\n"
   ]
  },
  {
   "cell_type": "code",
   "execution_count": 320,
   "id": "37d22b17",
   "metadata": {},
   "outputs": [
    {
     "data": {
      "text/html": [
       "<div>\n",
       "<style scoped>\n",
       "    .dataframe tbody tr th:only-of-type {\n",
       "        vertical-align: middle;\n",
       "    }\n",
       "\n",
       "    .dataframe tbody tr th {\n",
       "        vertical-align: top;\n",
       "    }\n",
       "\n",
       "    .dataframe thead th {\n",
       "        text-align: right;\n",
       "    }\n",
       "</style>\n",
       "<table border=\"1\" class=\"dataframe\">\n",
       "  <thead>\n",
       "    <tr style=\"text-align: right;\">\n",
       "      <th></th>\n",
       "      <th>bookID</th>\n",
       "      <th>title</th>\n",
       "      <th>authors</th>\n",
       "      <th>average_rating</th>\n",
       "      <th>isbn</th>\n",
       "      <th>isbn13</th>\n",
       "      <th>language_code</th>\n",
       "      <th>num_pages</th>\n",
       "      <th>ratings_count</th>\n",
       "      <th>text_reviews_count</th>\n",
       "      <th>publication_date</th>\n",
       "      <th>publisher;;;</th>\n",
       "    </tr>\n",
       "  </thead>\n",
       "  <tbody>\n",
       "    <tr>\n",
       "      <th>0</th>\n",
       "      <td>1</td>\n",
       "      <td>Harry Potter and the Half-Blood Prince (Harry ...</td>\n",
       "      <td>J.K. Rowling/Mary GrandPré</td>\n",
       "      <td>4.57</td>\n",
       "      <td>0439785960</td>\n",
       "      <td>9.780440e+12</td>\n",
       "      <td>eng</td>\n",
       "      <td>652.0</td>\n",
       "      <td>2095690.0</td>\n",
       "      <td>27591.0</td>\n",
       "      <td>9/16/2006</td>\n",
       "      <td>Scholastic Inc.;;;</td>\n",
       "    </tr>\n",
       "    <tr>\n",
       "      <th>1</th>\n",
       "      <td>2</td>\n",
       "      <td>Harry Potter and the Order of the Phoenix (Har...</td>\n",
       "      <td>J.K. Rowling/Mary GrandPré</td>\n",
       "      <td>4.49</td>\n",
       "      <td>0439358078</td>\n",
       "      <td>9.780439e+12</td>\n",
       "      <td>eng</td>\n",
       "      <td>870.0</td>\n",
       "      <td>2153167.0</td>\n",
       "      <td>29221.0</td>\n",
       "      <td>9/1/2004</td>\n",
       "      <td>Scholastic Inc.;;;</td>\n",
       "    </tr>\n",
       "    <tr>\n",
       "      <th>2</th>\n",
       "      <td>4</td>\n",
       "      <td>Harry Potter and the Chamber of Secrets (Harry...</td>\n",
       "      <td>J.K. Rowling</td>\n",
       "      <td>4.42</td>\n",
       "      <td>0439554896</td>\n",
       "      <td>9.780440e+12</td>\n",
       "      <td>eng</td>\n",
       "      <td>352.0</td>\n",
       "      <td>6333.0</td>\n",
       "      <td>244.0</td>\n",
       "      <td>11/1/2003</td>\n",
       "      <td>Scholastic;;;</td>\n",
       "    </tr>\n",
       "    <tr>\n",
       "      <th>3</th>\n",
       "      <td>5</td>\n",
       "      <td>Harry Potter and the Prisoner of Azkaban (Harr...</td>\n",
       "      <td>J.K. Rowling/Mary GrandPré</td>\n",
       "      <td>4.56</td>\n",
       "      <td>043965548X</td>\n",
       "      <td>9.780440e+12</td>\n",
       "      <td>eng</td>\n",
       "      <td>435.0</td>\n",
       "      <td>2339585.0</td>\n",
       "      <td>36325.0</td>\n",
       "      <td>5/1/2004</td>\n",
       "      <td>Scholastic Inc.;;;</td>\n",
       "    </tr>\n",
       "    <tr>\n",
       "      <th>4</th>\n",
       "      <td>8</td>\n",
       "      <td>Harry Potter Boxed Set  Books 1-5 (Harry Potte...</td>\n",
       "      <td>J.K. Rowling/Mary GrandPré</td>\n",
       "      <td>4.78</td>\n",
       "      <td>0439682584</td>\n",
       "      <td>9.780440e+12</td>\n",
       "      <td>eng</td>\n",
       "      <td>2690.0</td>\n",
       "      <td>41428.0</td>\n",
       "      <td>164.0</td>\n",
       "      <td>9/13/2004</td>\n",
       "      <td>Scholastic;;;</td>\n",
       "    </tr>\n",
       "  </tbody>\n",
       "</table>\n",
       "</div>"
      ],
      "text/plain": [
       "  bookID                                              title  \\\n",
       "0      1  Harry Potter and the Half-Blood Prince (Harry ...   \n",
       "1      2  Harry Potter and the Order of the Phoenix (Har...   \n",
       "2      4  Harry Potter and the Chamber of Secrets (Harry...   \n",
       "3      5  Harry Potter and the Prisoner of Azkaban (Harr...   \n",
       "4      8  Harry Potter Boxed Set  Books 1-5 (Harry Potte...   \n",
       "\n",
       "                      authors  average_rating        isbn        isbn13  \\\n",
       "0  J.K. Rowling/Mary GrandPré            4.57  0439785960  9.780440e+12   \n",
       "1  J.K. Rowling/Mary GrandPré            4.49  0439358078  9.780439e+12   \n",
       "2                J.K. Rowling            4.42  0439554896  9.780440e+12   \n",
       "3  J.K. Rowling/Mary GrandPré            4.56  043965548X  9.780440e+12   \n",
       "4  J.K. Rowling/Mary GrandPré            4.78  0439682584  9.780440e+12   \n",
       "\n",
       "  language_code    num_pages  ratings_count  text_reviews_count  \\\n",
       "0           eng        652.0      2095690.0             27591.0   \n",
       "1           eng        870.0      2153167.0             29221.0   \n",
       "2           eng        352.0         6333.0               244.0   \n",
       "3           eng        435.0      2339585.0             36325.0   \n",
       "4           eng       2690.0        41428.0               164.0   \n",
       "\n",
       "  publication_date        publisher;;;  \n",
       "0        9/16/2006  Scholastic Inc.;;;  \n",
       "1         9/1/2004  Scholastic Inc.;;;  \n",
       "2        11/1/2003       Scholastic;;;  \n",
       "3         5/1/2004  Scholastic Inc.;;;  \n",
       "4        9/13/2004       Scholastic;;;  "
      ]
     },
     "execution_count": 320,
     "metadata": {},
     "output_type": "execute_result"
    }
   ],
   "source": [
    "df.head()"
   ]
  },
  {
   "cell_type": "code",
   "execution_count": 321,
   "id": "3b6bc93d",
   "metadata": {},
   "outputs": [
    {
     "data": {
      "text/plain": [
       "(11123, 12)"
      ]
     },
     "execution_count": 321,
     "metadata": {},
     "output_type": "execute_result"
    }
   ],
   "source": [
    "#Print the shape of the dataFrame\n",
    "df.shape"
   ]
  },
  {
   "cell_type": "code",
   "execution_count": 322,
   "id": "3dcf6087",
   "metadata": {},
   "outputs": [
    {
     "name": "stdout",
     "output_type": "stream",
     "text": [
      "<class 'pandas.core.frame.DataFrame'>\n",
      "RangeIndex: 11123 entries, 0 to 11122\n",
      "Data columns (total 12 columns):\n",
      " #   Column              Non-Null Count  Dtype  \n",
      "---  ------              --------------  -----  \n",
      " 0   bookID              11123 non-null  object \n",
      " 1   title               11094 non-null  object \n",
      " 2   authors             11094 non-null  object \n",
      " 3   average_rating      11094 non-null  float64\n",
      " 4   isbn                11094 non-null  object \n",
      " 5   isbn13              11094 non-null  float64\n",
      " 6   language_code       11094 non-null  object \n",
      " 7     num_pages         11094 non-null  float64\n",
      " 8   ratings_count       11094 non-null  float64\n",
      " 9   text_reviews_count  11094 non-null  float64\n",
      " 10  publication_date    11094 non-null  object \n",
      " 11  publisher;;;        11094 non-null  object \n",
      "dtypes: float64(5), object(7)\n",
      "memory usage: 1.0+ MB\n"
     ]
    }
   ],
   "source": [
    "df.info()"
   ]
  },
  {
   "cell_type": "code",
   "execution_count": 323,
   "id": "23fa3b85",
   "metadata": {},
   "outputs": [
    {
     "data": {
      "text/html": [
       "<div>\n",
       "<style scoped>\n",
       "    .dataframe tbody tr th:only-of-type {\n",
       "        vertical-align: middle;\n",
       "    }\n",
       "\n",
       "    .dataframe tbody tr th {\n",
       "        vertical-align: top;\n",
       "    }\n",
       "\n",
       "    .dataframe thead th {\n",
       "        text-align: right;\n",
       "    }\n",
       "</style>\n",
       "<table border=\"1\" class=\"dataframe\">\n",
       "  <thead>\n",
       "    <tr style=\"text-align: right;\">\n",
       "      <th></th>\n",
       "      <th>average_rating</th>\n",
       "      <th>isbn13</th>\n",
       "      <th>num_pages</th>\n",
       "      <th>ratings_count</th>\n",
       "      <th>text_reviews_count</th>\n",
       "    </tr>\n",
       "  </thead>\n",
       "  <tbody>\n",
       "    <tr>\n",
       "      <th>count</th>\n",
       "      <td>11094.000000</td>\n",
       "      <td>1.109400e+04</td>\n",
       "      <td>11094.000000</td>\n",
       "      <td>1.109400e+04</td>\n",
       "      <td>11094.000000</td>\n",
       "    </tr>\n",
       "    <tr>\n",
       "      <th>mean</th>\n",
       "      <td>3.935026</td>\n",
       "      <td>9.759826e+12</td>\n",
       "      <td>336.543537</td>\n",
       "      <td>1.798750e+04</td>\n",
       "      <td>543.304309</td>\n",
       "    </tr>\n",
       "    <tr>\n",
       "      <th>std</th>\n",
       "      <td>0.346458</td>\n",
       "      <td>4.435532e+11</td>\n",
       "      <td>241.313733</td>\n",
       "      <td>1.126427e+05</td>\n",
       "      <td>2579.856004</td>\n",
       "    </tr>\n",
       "    <tr>\n",
       "      <th>min</th>\n",
       "      <td>0.000000</td>\n",
       "      <td>8.987060e+09</td>\n",
       "      <td>0.000000</td>\n",
       "      <td>0.000000e+00</td>\n",
       "      <td>0.000000</td>\n",
       "    </tr>\n",
       "    <tr>\n",
       "      <th>25%</th>\n",
       "      <td>3.770000</td>\n",
       "      <td>9.780345e+12</td>\n",
       "      <td>192.000000</td>\n",
       "      <td>1.050000e+02</td>\n",
       "      <td>9.000000</td>\n",
       "    </tr>\n",
       "    <tr>\n",
       "      <th>50%</th>\n",
       "      <td>3.960000</td>\n",
       "      <td>9.780582e+12</td>\n",
       "      <td>299.000000</td>\n",
       "      <td>7.490000e+02</td>\n",
       "      <td>47.000000</td>\n",
       "    </tr>\n",
       "    <tr>\n",
       "      <th>75%</th>\n",
       "      <td>4.140000</td>\n",
       "      <td>9.780872e+12</td>\n",
       "      <td>416.000000</td>\n",
       "      <td>5.018750e+03</td>\n",
       "      <td>238.000000</td>\n",
       "    </tr>\n",
       "    <tr>\n",
       "      <th>max</th>\n",
       "      <td>5.000000</td>\n",
       "      <td>9.790008e+12</td>\n",
       "      <td>6576.000000</td>\n",
       "      <td>4.597666e+06</td>\n",
       "      <td>94265.000000</td>\n",
       "    </tr>\n",
       "  </tbody>\n",
       "</table>\n",
       "</div>"
      ],
      "text/plain": [
       "       average_rating        isbn13     num_pages  ratings_count  \\\n",
       "count    11094.000000  1.109400e+04  11094.000000   1.109400e+04   \n",
       "mean         3.935026  9.759826e+12    336.543537   1.798750e+04   \n",
       "std          0.346458  4.435532e+11    241.313733   1.126427e+05   \n",
       "min          0.000000  8.987060e+09      0.000000   0.000000e+00   \n",
       "25%          3.770000  9.780345e+12    192.000000   1.050000e+02   \n",
       "50%          3.960000  9.780582e+12    299.000000   7.490000e+02   \n",
       "75%          4.140000  9.780872e+12    416.000000   5.018750e+03   \n",
       "max          5.000000  9.790008e+12   6576.000000   4.597666e+06   \n",
       "\n",
       "       text_reviews_count  \n",
       "count        11094.000000  \n",
       "mean           543.304309  \n",
       "std           2579.856004  \n",
       "min              0.000000  \n",
       "25%              9.000000  \n",
       "50%             47.000000  \n",
       "75%            238.000000  \n",
       "max          94265.000000  "
      ]
     },
     "execution_count": 323,
     "metadata": {},
     "output_type": "execute_result"
    }
   ],
   "source": [
    "df.describe()"
   ]
  },
  {
   "cell_type": "markdown",
   "id": "042c06f2",
   "metadata": {},
   "source": [
    "## Data cleaning and feature selection"
   ]
  },
  {
   "cell_type": "code",
   "execution_count": 324,
   "id": "1b3e6da9",
   "metadata": {},
   "outputs": [
    {
     "data": {
      "text/plain": [
       "bookID                 0\n",
       "title                 29\n",
       "authors               29\n",
       "average_rating        29\n",
       "isbn                  29\n",
       "isbn13                29\n",
       "language_code         29\n",
       "  num_pages           29\n",
       "ratings_count         29\n",
       "text_reviews_count    29\n",
       "publication_date      29\n",
       "publisher;;;          29\n",
       "dtype: int64"
      ]
     },
     "execution_count": 324,
     "metadata": {},
     "output_type": "execute_result"
    }
   ],
   "source": [
    "# Check of there are null values\n",
    "\n",
    "df.isna().sum()"
   ]
  },
  {
   "cell_type": "code",
   "execution_count": 325,
   "id": "0ffdf05c",
   "metadata": {},
   "outputs": [
    {
     "data": {
      "text/html": [
       "<div>\n",
       "<style scoped>\n",
       "    .dataframe tbody tr th:only-of-type {\n",
       "        vertical-align: middle;\n",
       "    }\n",
       "\n",
       "    .dataframe tbody tr th {\n",
       "        vertical-align: top;\n",
       "    }\n",
       "\n",
       "    .dataframe thead th {\n",
       "        text-align: right;\n",
       "    }\n",
       "</style>\n",
       "<table border=\"1\" class=\"dataframe\">\n",
       "  <thead>\n",
       "    <tr style=\"text-align: right;\">\n",
       "      <th></th>\n",
       "      <th>bookID</th>\n",
       "      <th>title</th>\n",
       "      <th>authors</th>\n",
       "      <th>average_rating</th>\n",
       "      <th>isbn</th>\n",
       "      <th>isbn13</th>\n",
       "      <th>language_code</th>\n",
       "      <th>num_pages</th>\n",
       "      <th>ratings_count</th>\n",
       "      <th>text_reviews_count</th>\n",
       "      <th>publication_date</th>\n",
       "      <th>publisher;;;</th>\n",
       "    </tr>\n",
       "  </thead>\n",
       "  <tbody>\n",
       "    <tr>\n",
       "      <th>0</th>\n",
       "      <td>NaN</td>\n",
       "      <td>NaN</td>\n",
       "      <td>NaN</td>\n",
       "      <td>NaN</td>\n",
       "      <td>NaN</td>\n",
       "      <td>NaN</td>\n",
       "      <td>NaN</td>\n",
       "      <td>NaN</td>\n",
       "      <td>NaN</td>\n",
       "      <td>NaN</td>\n",
       "      <td>NaN</td>\n",
       "      <td>NaN</td>\n",
       "    </tr>\n",
       "    <tr>\n",
       "      <th>1</th>\n",
       "      <td>NaN</td>\n",
       "      <td>NaN</td>\n",
       "      <td>NaN</td>\n",
       "      <td>NaN</td>\n",
       "      <td>NaN</td>\n",
       "      <td>NaN</td>\n",
       "      <td>NaN</td>\n",
       "      <td>NaN</td>\n",
       "      <td>NaN</td>\n",
       "      <td>NaN</td>\n",
       "      <td>NaN</td>\n",
       "      <td>NaN</td>\n",
       "    </tr>\n",
       "    <tr>\n",
       "      <th>2</th>\n",
       "      <td>NaN</td>\n",
       "      <td>NaN</td>\n",
       "      <td>NaN</td>\n",
       "      <td>NaN</td>\n",
       "      <td>NaN</td>\n",
       "      <td>NaN</td>\n",
       "      <td>NaN</td>\n",
       "      <td>NaN</td>\n",
       "      <td>NaN</td>\n",
       "      <td>NaN</td>\n",
       "      <td>NaN</td>\n",
       "      <td>NaN</td>\n",
       "    </tr>\n",
       "    <tr>\n",
       "      <th>3</th>\n",
       "      <td>NaN</td>\n",
       "      <td>NaN</td>\n",
       "      <td>NaN</td>\n",
       "      <td>NaN</td>\n",
       "      <td>NaN</td>\n",
       "      <td>NaN</td>\n",
       "      <td>NaN</td>\n",
       "      <td>NaN</td>\n",
       "      <td>NaN</td>\n",
       "      <td>NaN</td>\n",
       "      <td>NaN</td>\n",
       "      <td>NaN</td>\n",
       "    </tr>\n",
       "    <tr>\n",
       "      <th>4</th>\n",
       "      <td>NaN</td>\n",
       "      <td>NaN</td>\n",
       "      <td>NaN</td>\n",
       "      <td>NaN</td>\n",
       "      <td>NaN</td>\n",
       "      <td>NaN</td>\n",
       "      <td>NaN</td>\n",
       "      <td>NaN</td>\n",
       "      <td>NaN</td>\n",
       "      <td>NaN</td>\n",
       "      <td>NaN</td>\n",
       "      <td>NaN</td>\n",
       "    </tr>\n",
       "    <tr>\n",
       "      <th>...</th>\n",
       "      <td>...</td>\n",
       "      <td>...</td>\n",
       "      <td>...</td>\n",
       "      <td>...</td>\n",
       "      <td>...</td>\n",
       "      <td>...</td>\n",
       "      <td>...</td>\n",
       "      <td>...</td>\n",
       "      <td>...</td>\n",
       "      <td>...</td>\n",
       "      <td>...</td>\n",
       "      <td>...</td>\n",
       "    </tr>\n",
       "    <tr>\n",
       "      <th>11118</th>\n",
       "      <td>NaN</td>\n",
       "      <td>NaN</td>\n",
       "      <td>NaN</td>\n",
       "      <td>NaN</td>\n",
       "      <td>NaN</td>\n",
       "      <td>NaN</td>\n",
       "      <td>NaN</td>\n",
       "      <td>NaN</td>\n",
       "      <td>NaN</td>\n",
       "      <td>NaN</td>\n",
       "      <td>NaN</td>\n",
       "      <td>NaN</td>\n",
       "    </tr>\n",
       "    <tr>\n",
       "      <th>11119</th>\n",
       "      <td>NaN</td>\n",
       "      <td>NaN</td>\n",
       "      <td>NaN</td>\n",
       "      <td>NaN</td>\n",
       "      <td>NaN</td>\n",
       "      <td>NaN</td>\n",
       "      <td>NaN</td>\n",
       "      <td>NaN</td>\n",
       "      <td>NaN</td>\n",
       "      <td>NaN</td>\n",
       "      <td>NaN</td>\n",
       "      <td>NaN</td>\n",
       "    </tr>\n",
       "    <tr>\n",
       "      <th>11120</th>\n",
       "      <td>NaN</td>\n",
       "      <td>NaN</td>\n",
       "      <td>NaN</td>\n",
       "      <td>NaN</td>\n",
       "      <td>NaN</td>\n",
       "      <td>NaN</td>\n",
       "      <td>NaN</td>\n",
       "      <td>NaN</td>\n",
       "      <td>NaN</td>\n",
       "      <td>NaN</td>\n",
       "      <td>NaN</td>\n",
       "      <td>NaN</td>\n",
       "    </tr>\n",
       "    <tr>\n",
       "      <th>11121</th>\n",
       "      <td>NaN</td>\n",
       "      <td>NaN</td>\n",
       "      <td>NaN</td>\n",
       "      <td>NaN</td>\n",
       "      <td>NaN</td>\n",
       "      <td>NaN</td>\n",
       "      <td>NaN</td>\n",
       "      <td>NaN</td>\n",
       "      <td>NaN</td>\n",
       "      <td>NaN</td>\n",
       "      <td>NaN</td>\n",
       "      <td>NaN</td>\n",
       "    </tr>\n",
       "    <tr>\n",
       "      <th>11122</th>\n",
       "      <td>NaN</td>\n",
       "      <td>NaN</td>\n",
       "      <td>NaN</td>\n",
       "      <td>NaN</td>\n",
       "      <td>NaN</td>\n",
       "      <td>NaN</td>\n",
       "      <td>NaN</td>\n",
       "      <td>NaN</td>\n",
       "      <td>NaN</td>\n",
       "      <td>NaN</td>\n",
       "      <td>NaN</td>\n",
       "      <td>NaN</td>\n",
       "    </tr>\n",
       "  </tbody>\n",
       "</table>\n",
       "<p>11123 rows × 12 columns</p>\n",
       "</div>"
      ],
      "text/plain": [
       "      bookID title authors  average_rating isbn  isbn13 language_code  \\\n",
       "0        NaN   NaN     NaN             NaN  NaN     NaN           NaN   \n",
       "1        NaN   NaN     NaN             NaN  NaN     NaN           NaN   \n",
       "2        NaN   NaN     NaN             NaN  NaN     NaN           NaN   \n",
       "3        NaN   NaN     NaN             NaN  NaN     NaN           NaN   \n",
       "4        NaN   NaN     NaN             NaN  NaN     NaN           NaN   \n",
       "...      ...   ...     ...             ...  ...     ...           ...   \n",
       "11118    NaN   NaN     NaN             NaN  NaN     NaN           NaN   \n",
       "11119    NaN   NaN     NaN             NaN  NaN     NaN           NaN   \n",
       "11120    NaN   NaN     NaN             NaN  NaN     NaN           NaN   \n",
       "11121    NaN   NaN     NaN             NaN  NaN     NaN           NaN   \n",
       "11122    NaN   NaN     NaN             NaN  NaN     NaN           NaN   \n",
       "\n",
       "         num_pages  ratings_count  text_reviews_count publication_date  \\\n",
       "0              NaN            NaN                 NaN              NaN   \n",
       "1              NaN            NaN                 NaN              NaN   \n",
       "2              NaN            NaN                 NaN              NaN   \n",
       "3              NaN            NaN                 NaN              NaN   \n",
       "4              NaN            NaN                 NaN              NaN   \n",
       "...            ...            ...                 ...              ...   \n",
       "11118          NaN            NaN                 NaN              NaN   \n",
       "11119          NaN            NaN                 NaN              NaN   \n",
       "11120          NaN            NaN                 NaN              NaN   \n",
       "11121          NaN            NaN                 NaN              NaN   \n",
       "11122          NaN            NaN                 NaN              NaN   \n",
       "\n",
       "      publisher;;;  \n",
       "0              NaN  \n",
       "1              NaN  \n",
       "2              NaN  \n",
       "3              NaN  \n",
       "4              NaN  \n",
       "...            ...  \n",
       "11118          NaN  \n",
       "11119          NaN  \n",
       "11120          NaN  \n",
       "11121          NaN  \n",
       "11122          NaN  \n",
       "\n",
       "[11123 rows x 12 columns]"
      ]
     },
     "execution_count": 325,
     "metadata": {},
     "output_type": "execute_result"
    }
   ],
   "source": [
    "df[df.isna()]"
   ]
  },
  {
   "cell_type": "code",
   "execution_count": 326,
   "id": "380486fa",
   "metadata": {},
   "outputs": [],
   "source": [
    "#Let's drop those line \n",
    "df.dropna(inplace=True)"
   ]
  },
  {
   "cell_type": "code",
   "execution_count": 327,
   "id": "e6b9451b",
   "metadata": {},
   "outputs": [
    {
     "data": {
      "text/plain": [
       "bookID                0\n",
       "title                 0\n",
       "authors               0\n",
       "average_rating        0\n",
       "isbn                  0\n",
       "isbn13                0\n",
       "language_code         0\n",
       "  num_pages           0\n",
       "ratings_count         0\n",
       "text_reviews_count    0\n",
       "publication_date      0\n",
       "publisher;;;          0\n",
       "dtype: int64"
      ]
     },
     "execution_count": 327,
     "metadata": {},
     "output_type": "execute_result"
    }
   ],
   "source": [
    "df.isna().sum()"
   ]
  },
  {
   "cell_type": "code",
   "execution_count": 328,
   "id": "fb1b687f",
   "metadata": {},
   "outputs": [
    {
     "data": {
      "text/plain": [
       "0"
      ]
     },
     "execution_count": 328,
     "metadata": {},
     "output_type": "execute_result"
    }
   ],
   "source": [
    "# Check if there are redondant information\n",
    "df.duplicated().sum()"
   ]
  },
  {
   "cell_type": "code",
   "execution_count": 329,
   "id": "ba131a5d",
   "metadata": {},
   "outputs": [],
   "source": [
    "#rename columns\n",
    "df = df.rename(columns={'  num_pages': 'num_pages', 'publisher;;;': 'publisher'})"
   ]
  },
  {
   "cell_type": "markdown",
   "id": "328b2c1c",
   "metadata": {},
   "source": [
    "I decided to remove columns \"Title\", \"authors\", \"bookID\", \"isbn\", \"isbn13\", \"publisher\". I remove bookID, isbn and isbn13 because they are unique idenfier of each book and keeping them will force our model to learn information from each specific book, and trying to predict the rating of an unknown book will fail . I remove authors and publisher because i wanted my model to be able to predict the rating of a book with authors and publisher different than the one we had for our model training."
   ]
  },
  {
   "cell_type": "code",
   "execution_count": 330,
   "id": "6eb11779",
   "metadata": {},
   "outputs": [],
   "source": [
    "#Let's drop some columns\n",
    "\n",
    "df = df.drop(columns=[\"title\",\"authors\",\"bookID\",\"isbn\",\"isbn13\",\"publisher\"])"
   ]
  },
  {
   "cell_type": "code",
   "execution_count": 331,
   "id": "3c413ba1",
   "metadata": {},
   "outputs": [
    {
     "data": {
      "text/plain": [
       "Index(['average_rating', 'language_code', 'num_pages', 'ratings_count',\n",
       "       'text_reviews_count', 'publication_date'],\n",
       "      dtype='object')"
      ]
     },
     "execution_count": 331,
     "metadata": {},
     "output_type": "execute_result"
    }
   ],
   "source": [
    "df.columns"
   ]
  },
  {
   "cell_type": "code",
   "execution_count": 332,
   "id": "2e0dde79",
   "metadata": {},
   "outputs": [
    {
     "data": {
      "text/plain": [
       "eng      8885\n",
       "en-US    1403\n",
       "spa       218\n",
       "en-GB     213\n",
       "fre       144\n",
       "ger        99\n",
       "jpn        46\n",
       "mul        19\n",
       "zho        14\n",
       "grc        11\n",
       "por        10\n",
       "en-CA       7\n",
       "ita         5\n",
       "enm         3\n",
       "lat         3\n",
       "swe         2\n",
       "rus         2\n",
       "nl          1\n",
       "srp         1\n",
       "msa         1\n",
       "glg         1\n",
       "ale         1\n",
       "gla         1\n",
       "nor         1\n",
       "wel         1\n",
       "ara         1\n",
       "tur         1\n",
       "Name: language_code, dtype: int64"
      ]
     },
     "execution_count": 332,
     "metadata": {},
     "output_type": "execute_result"
    }
   ],
   "source": [
    "df.groupby([\"language_code\"])\n",
    "df.language_code.value_counts()"
   ]
  },
  {
   "cell_type": "code",
   "execution_count": 334,
   "id": "c83e817b",
   "metadata": {},
   "outputs": [
    {
     "data": {
      "image/png": "[encoded data removed]",
      "text/plain": [
       "<Figure size 576x576 with 1 Axes>"
      ]
     },
     "metadata": {
      "needs_background": "light"
     },
     "output_type": "display_data"
    }
   ],
   "source": [
    "sns.set_context('paper')\n",
    "plt.figure(figsize=(8,8))\n",
    "ax = df.groupby('language_code')['language_code'].count().plot.bar()\n",
    "plt.title('Language Code')\n",
    "plt.xticks(fontsize = 15)\n",
    "for p in ax.patches:\n",
    "    ax.annotate(str(p.get_height()), (p.get_x()-0.3, p.get_height()+100))\n",
    "plt.show()"
   ]
  },
  {
   "cell_type": "code",
   "execution_count": 280,
   "id": "ff4e42f8",
   "metadata": {},
   "outputs": [
    {
     "data": {
      "text/plain": [
       "0          eng\n",
       "1          eng\n",
       "2          eng\n",
       "3          eng\n",
       "4          eng\n",
       "         ...  \n",
       "11118      eng\n",
       "11119      eng\n",
       "11120      eng\n",
       "11121      eng\n",
       "11122    other\n",
       "Name: language_code, Length: 11094, dtype: object"
      ]
     },
     "execution_count": 280,
     "metadata": {},
     "output_type": "execute_result"
    }
   ],
   "source": [
    "#Let's split our data in two type of language \"eng\" and \"other\"\n",
    "\n",
    "language_code_value = [\"eng\",\"en-US\",\"en-GB\",\"en-CA\"]\n",
    "language_code_list = df.language_code.astype(str)\n",
    "language_code = []\n",
    "for elt in language_code_list :\n",
    "    if (elt in language_code_value):\n",
    "        language_code.append(\"eng\")\n",
    "    else :\n",
    "        language_code.append(\"other\")\n",
    "df.language_code = language_code\n",
    "df.language_code.astype(object)"
   ]
  },
  {
   "cell_type": "code",
   "execution_count": 281,
   "id": "6d4a4320",
   "metadata": {},
   "outputs": [
    {
     "data": {
      "text/plain": [
       "eng      10508\n",
       "other      586\n",
       "Name: language_code, dtype: int64"
      ]
     },
     "execution_count": 281,
     "metadata": {},
     "output_type": "execute_result"
    }
   ],
   "source": [
    "df.language_code.value_counts()"
   ]
  },
  {
   "cell_type": "code",
   "execution_count": 282,
   "id": "3cea953b",
   "metadata": {},
   "outputs": [],
   "source": [
    "\n",
    "# In this cell i will split the data in two part according to the median publication_date\n",
    "publication_date = df.publication_date.astype(str) #Change the columns type of the columns publication_date\n",
    "\n",
    "publication_date_value = []\n",
    "for elt in publication_date :\n",
    "    publication_date_value.append((elt.split(\"/\")[2])) #split it and take only the year\n",
    "    \n",
    "df.publication_date = publication_date_value\n",
    "\n",
    "\n",
    "df[\"publication_date\"] = pd.to_numeric(df[\"publication_date\"])\n",
    "df.publication_date.median() # Get the median publicatin date\n",
    "publication_date_value = []\n",
    "for elt in df.publication_date :\n",
    "    if elt < 2003 :\n",
    "        publication_date_value.append(\"<median_date\")  \n",
    "    else :\n",
    "        publication_date_value.append(\">median_date\")\n",
    "df[\"new_pub_date\"] = publication_date_value    \n",
    "df.new_pub_date.astype(object)\n",
    "df = df.drop(columns = [\"publication_date\"])"
   ]
  },
  {
   "cell_type": "code",
   "execution_count": 283,
   "id": "e1f24eb1",
   "metadata": {},
   "outputs": [
    {
     "data": {
      "text/plain": [
       ">median_date    5699\n",
       "<median_date    5395\n",
       "Name: new_pub_date, dtype: int64"
      ]
     },
     "execution_count": 283,
     "metadata": {},
     "output_type": "execute_result"
    }
   ],
   "source": [
    "df.new_pub_date.value_counts()"
   ]
  },
  {
   "cell_type": "code",
   "execution_count": 284,
   "id": "1cadd2ae",
   "metadata": {},
   "outputs": [
    {
     "data": {
      "text/html": [
       "<div>\n",
       "<style scoped>\n",
       "    .dataframe tbody tr th:only-of-type {\n",
       "        vertical-align: middle;\n",
       "    }\n",
       "\n",
       "    .dataframe tbody tr th {\n",
       "        vertical-align: top;\n",
       "    }\n",
       "\n",
       "    .dataframe thead th {\n",
       "        text-align: right;\n",
       "    }\n",
       "</style>\n",
       "<table border=\"1\" class=\"dataframe\">\n",
       "  <thead>\n",
       "    <tr style=\"text-align: right;\">\n",
       "      <th></th>\n",
       "      <th>average_rating</th>\n",
       "      <th>language_code</th>\n",
       "      <th>num_pages</th>\n",
       "      <th>ratings_count</th>\n",
       "      <th>text_reviews_count</th>\n",
       "      <th>new_pub_date</th>\n",
       "    </tr>\n",
       "  </thead>\n",
       "  <tbody>\n",
       "    <tr>\n",
       "      <th>0</th>\n",
       "      <td>4.57</td>\n",
       "      <td>eng</td>\n",
       "      <td>652.0</td>\n",
       "      <td>2095690.0</td>\n",
       "      <td>27591.0</td>\n",
       "      <td>&gt;median_date</td>\n",
       "    </tr>\n",
       "    <tr>\n",
       "      <th>1</th>\n",
       "      <td>4.49</td>\n",
       "      <td>eng</td>\n",
       "      <td>870.0</td>\n",
       "      <td>2153167.0</td>\n",
       "      <td>29221.0</td>\n",
       "      <td>&gt;median_date</td>\n",
       "    </tr>\n",
       "    <tr>\n",
       "      <th>2</th>\n",
       "      <td>4.42</td>\n",
       "      <td>eng</td>\n",
       "      <td>352.0</td>\n",
       "      <td>6333.0</td>\n",
       "      <td>244.0</td>\n",
       "      <td>&gt;median_date</td>\n",
       "    </tr>\n",
       "    <tr>\n",
       "      <th>3</th>\n",
       "      <td>4.56</td>\n",
       "      <td>eng</td>\n",
       "      <td>435.0</td>\n",
       "      <td>2339585.0</td>\n",
       "      <td>36325.0</td>\n",
       "      <td>&gt;median_date</td>\n",
       "    </tr>\n",
       "    <tr>\n",
       "      <th>4</th>\n",
       "      <td>4.78</td>\n",
       "      <td>eng</td>\n",
       "      <td>2690.0</td>\n",
       "      <td>41428.0</td>\n",
       "      <td>164.0</td>\n",
       "      <td>&gt;median_date</td>\n",
       "    </tr>\n",
       "  </tbody>\n",
       "</table>\n",
       "</div>"
      ],
      "text/plain": [
       "   average_rating language_code  num_pages  ratings_count  text_reviews_count  \\\n",
       "0            4.57           eng      652.0      2095690.0             27591.0   \n",
       "1            4.49           eng      870.0      2153167.0             29221.0   \n",
       "2            4.42           eng      352.0         6333.0               244.0   \n",
       "3            4.56           eng      435.0      2339585.0             36325.0   \n",
       "4            4.78           eng     2690.0        41428.0               164.0   \n",
       "\n",
       "   new_pub_date  \n",
       "0  >median_date  \n",
       "1  >median_date  \n",
       "2  >median_date  \n",
       "3  >median_date  \n",
       "4  >median_date  "
      ]
     },
     "execution_count": 284,
     "metadata": {},
     "output_type": "execute_result"
    }
   ],
   "source": [
    "df.head()"
   ]
  },
  {
   "cell_type": "markdown",
   "id": "be59ed57",
   "metadata": {},
   "source": [
    "## Data analysis and visualization"
   ]
  },
  {
   "cell_type": "code",
   "execution_count": 285,
   "id": "74a83492",
   "metadata": {},
   "outputs": [
    {
     "data": {
      "image/png": "[encoded data removed]",
      "text/plain": [
       "<Figure size 720x720 with 20 Axes>"
      ]
     },
     "metadata": {
      "needs_background": "light"
     },
     "output_type": "display_data"
    }
   ],
   "source": [
    "sns.pairplot(df);"
   ]
  },
  {
   "cell_type": "code",
   "execution_count": 286,
   "id": "de70a1fb",
   "metadata": {},
   "outputs": [
    {
     "data": {
      "text/plain": [
       "average_rating        23\n",
       "language_code         23\n",
       "num_pages             23\n",
       "ratings_count         23\n",
       "text_reviews_count    23\n",
       "new_pub_date          23\n",
       "dtype: int64"
      ]
     },
     "execution_count": 286,
     "metadata": {},
     "output_type": "execute_result"
    }
   ],
   "source": [
    "df[df.average_rating == 0].count()"
   ]
  },
  {
   "cell_type": "code",
   "execution_count": 287,
   "id": "f4c73731",
   "metadata": {},
   "outputs": [],
   "source": [
    "#Drop line with average rating equal to zero\n",
    "df = df.drop(index=df[df.average_rating == 0].index)"
   ]
  },
  {
   "cell_type": "code",
   "execution_count": 288,
   "id": "d8a0a5f1",
   "metadata": {},
   "outputs": [
    {
     "data": {
      "text/plain": [
       "average_rating        55\n",
       "language_code         55\n",
       "num_pages             55\n",
       "ratings_count         55\n",
       "text_reviews_count    55\n",
       "new_pub_date          55\n",
       "dtype: int64"
      ]
     },
     "execution_count": 288,
     "metadata": {},
     "output_type": "execute_result"
    }
   ],
   "source": [
    "df[df.ratings_count == 0].count()"
   ]
  },
  {
   "cell_type": "code",
   "execution_count": 289,
   "id": "5554ad25",
   "metadata": {},
   "outputs": [],
   "source": [
    "#There are abnormal data those with ratings count == 0 and average_rating non equal to zero\n",
    "df = df.drop(index=df[df.ratings_count == 0].index)"
   ]
  },
  {
   "cell_type": "code",
   "execution_count": 290,
   "id": "d97f8a33",
   "metadata": {},
   "outputs": [
    {
     "data": {
      "text/html": [
       "<div>\n",
       "<style scoped>\n",
       "    .dataframe tbody tr th:only-of-type {\n",
       "        vertical-align: middle;\n",
       "    }\n",
       "\n",
       "    .dataframe tbody tr th {\n",
       "        vertical-align: top;\n",
       "    }\n",
       "\n",
       "    .dataframe thead th {\n",
       "        text-align: right;\n",
       "    }\n",
       "</style>\n",
       "<table border=\"1\" class=\"dataframe\">\n",
       "  <thead>\n",
       "    <tr style=\"text-align: right;\">\n",
       "      <th></th>\n",
       "      <th>average_rating</th>\n",
       "      <th>language_code</th>\n",
       "      <th>num_pages</th>\n",
       "      <th>ratings_count</th>\n",
       "      <th>text_reviews_count</th>\n",
       "      <th>new_pub_date</th>\n",
       "    </tr>\n",
       "  </thead>\n",
       "  <tbody>\n",
       "  </tbody>\n",
       "</table>\n",
       "</div>"
      ],
      "text/plain": [
       "Empty DataFrame\n",
       "Columns: [average_rating, language_code, num_pages, ratings_count, text_reviews_count, new_pub_date]\n",
       "Index: []"
      ]
     },
     "execution_count": 290,
     "metadata": {},
     "output_type": "execute_result"
    }
   ],
   "source": [
    "df[df.ratings_count == 0]\n",
    "\n"
   ]
  },
  {
   "cell_type": "code",
   "execution_count": 291,
   "id": "2e660cf0",
   "metadata": {},
   "outputs": [
    {
     "data": {
      "image/png": "[encoded data removed]",
      "text/plain": [
       "<Figure size 432x288 with 2 Axes>"
      ]
     },
     "metadata": {
      "needs_background": "light"
     },
     "output_type": "display_data"
    }
   ],
   "source": [
    "sns.heatmap(\n",
    "    df.corr(),        \n",
    "    cmap='RdBu_r', \n",
    "    annot=True, \n",
    "    vmin=-1, vmax=1);"
   ]
  },
  {
   "cell_type": "code",
   "execution_count": 292,
   "id": "d52dde14",
   "metadata": {},
   "outputs": [
    {
     "name": "stderr",
     "output_type": "stream",
     "text": [
      "C:\\programmesDev\\lib\\site-packages\\seaborn\\_decorators.py:36: FutureWarning: Pass the following variables as keyword args: x, y. From version 0.12, the only valid positional argument will be `data`, and passing other arguments without an explicit keyword will result in an error or misinterpretation.\n",
      "  warnings.warn(\n"
     ]
    },
    {
     "data": {
      "text/plain": [
       "<AxesSubplot:ylabel='new_pub_date'>"
      ]
     },
     "execution_count": 292,
     "metadata": {},
     "output_type": "execute_result"
    },
    {
     "data": {
      "image/png": "[encoded data removed]",
      "text/plain": [
       "<Figure size 432x288 with 1 Axes>"
      ]
     },
     "metadata": {
      "needs_background": "light"
     },
     "output_type": "display_data"
    }
   ],
   "source": [
    "sns.barplot(df.new_pub_date.value_counts().index, df.new_pub_date.value_counts())"
   ]
  },
  {
   "cell_type": "code",
   "execution_count": 293,
   "id": "0dc747a7",
   "metadata": {},
   "outputs": [
    {
     "name": "stderr",
     "output_type": "stream",
     "text": [
      "C:\\programmesDev\\lib\\site-packages\\seaborn\\_decorators.py:36: FutureWarning: Pass the following variables as keyword args: x, y. From version 0.12, the only valid positional argument will be `data`, and passing other arguments without an explicit keyword will result in an error or misinterpretation.\n",
      "  warnings.warn(\n"
     ]
    },
    {
     "data": {
      "text/plain": [
       "<AxesSubplot:ylabel='language_code'>"
      ]
     },
     "execution_count": 293,
     "metadata": {},
     "output_type": "execute_result"
    },
    {
     "data": {
      "image/png": "[encoded data removed]",
      "text/plain": [
       "<Figure size 432x288 with 1 Axes>"
      ]
     },
     "metadata": {
      "needs_background": "light"
     },
     "output_type": "display_data"
    }
   ],
   "source": [
    "sns.barplot(df.language_code.value_counts().index, df.language_code.value_counts())"
   ]
  },
  {
   "cell_type": "markdown",
   "id": "1f737bd2",
   "metadata": {},
   "source": [
    "## Data preparation for our model"
   ]
  },
  {
   "cell_type": "code",
   "execution_count": 294,
   "id": "eb9973a5",
   "metadata": {},
   "outputs": [],
   "source": [
    "df = pd.concat([df,pd.get_dummies(df.language_code, drop_first=True)],axis=1).drop(columns=\"language_code\")\n",
    "df = pd.concat([df,pd.get_dummies(df.new_pub_date, drop_first=True)],axis=1).drop(columns=\"new_pub_date\")\n",
    "df_train, df_test = train_test_split(df,test_size = 0.2)"
   ]
  },
  {
   "cell_type": "markdown",
   "id": "a2f819da",
   "metadata": {},
   "source": [
    "## Building Machine Learning Models and make predictions"
   ]
  },
  {
   "cell_type": "code",
   "execution_count": 298,
   "id": "15d6637b",
   "metadata": {},
   "outputs": [],
   "source": [
    "def ModelBuilding_LinearRegression(df_train, df_test):\n",
    "    # divide the data into attributes and labels\n",
    "    X_train = df_train.drop(['average_rating'], axis = 1)\n",
    "    y_train = df_train['average_rating']\n",
    "    \n",
    "    X_test = df_test.drop(['average_rating'], axis = 1)\n",
    "    y_test = df_test['average_rating']\n",
    "    \n",
    "    \n",
    "    linReg = LinearRegression()\n",
    "    linReg.fit(X_train, y_train)\n",
    "    print(\"Intercept = {0}\".format(linReg.intercept_))\n",
    "    print(\"Coefficients = {0}\".format(linReg.coef_.tolist()))\n",
    "    predictions = linReg.predict(X_test)\n",
    "    predictions_ytrain = linReg.predict(X_train)\n",
    "    return (predictions, X_test, y_test,predictions_ytrain, linReg)"
   ]
  },
  {
   "cell_type": "code",
   "execution_count": 299,
   "id": "0f378e5b",
   "metadata": {},
   "outputs": [],
   "source": [
    "def ModelBuilding_RandomForest_Regressor(df_train, df_test):\n",
    "    # divide the data into attributes and labels\n",
    "    \n",
    "    \n",
    "    X_train = df_train.drop(['average_rating'], axis = 1)\n",
    "    y_train = df_train['average_rating']\n",
    "    \n",
    "    \n",
    "    X_test = df_test.drop(['average_rating'], axis = 1)\n",
    "    y_test = df_test['average_rating']\n",
    "    \n",
    "    \n",
    "    dr_model = RandomForestRegressor(n_estimators = 10, random_state=42)\n",
    "    dr_model.fit(X_train, y_train)\n",
    "    predictions = dr_model.predict(X_test)\n",
    "    predictions_ytrain = dr_model.predict(X_train)\n",
    "    return (predictions, X_test, y_test,predictions_ytrain,dr_model)"
   ]
  },
  {
   "cell_type": "code",
   "execution_count": 300,
   "id": "015d35cd",
   "metadata": {},
   "outputs": [],
   "source": [
    "def ModelBuilding_DecisionTree_Regressor(df_train, df_test):\n",
    "    # divide the data into attributes and labels\n",
    "    \n",
    "    \n",
    "    X_train = df_train.drop(['average_rating'], axis = 1)\n",
    "    y_train = df_train['average_rating']\n",
    "    \n",
    "    print(\"Shape of Inputs = {0}\".format(X_train.shape))\n",
    "    print(\"Shape of Target = {0}\".format(y_train.shape))\n",
    "    \n",
    "    X_test = df_test.drop(['average_rating'], axis = 1)\n",
    "    y_test = df_test['average_rating']\n",
    "    \n",
    "    print(\"Shape of Inputs = {0}\".format(X_test.shape))\n",
    "    print(\"Shape of Target = {0}\".format(y_test.shape))\n",
    "    \n",
    "    dt_model = DecisionTreeRegressor()\n",
    "    dt_model.fit(X_train, y_train)\n",
    "    predictions = dt_model.predict(X_test)\n",
    "    predictions_ytrain = dt_model.predict(X_train)\n",
    "    return (predictions, X_test, y_test,predictions_ytrain, dt_model)"
   ]
  },
  {
   "cell_type": "code",
   "execution_count": 301,
   "id": "24705f9d",
   "metadata": {},
   "outputs": [],
   "source": [
    "def ModelBuilding_RandomForest_Regressor_GreadSearch(df_train, df_test):\n",
    "    # divide the data into attributes and labels\n",
    "    \n",
    "    \n",
    "    X_train = df_train.drop(['average_rating'], axis = 1)\n",
    "    y_train = df_train['average_rating']\n",
    "    \n",
    "    \n",
    "    X_test = df_test.drop(['average_rating'], axis = 1)\n",
    "    y_test = df_test['average_rating']\n",
    "    \n",
    "    dr_model = RandomForestRegressor()\n",
    "    \n",
    "    parameters = {\n",
    "    'n_estimators': [50, 100, 150, 200],\n",
    "    'max_depth': [3, 5, 7, 10, 12, 15],\n",
    "    'min_samples_split': [5, 10, 15],\n",
    "    'min_samples_leaf': [5, 10, 15]\n",
    "    }\n",
    "\n",
    "    grad_rf = GridSearchCV(dr_model, parameters, refit=True, cv=10)\n",
    "    grad_rf.fit(X_train, y_train)\n",
    "\n",
    "    predictions = grad_rf.predict(X_test)\n",
    "    predictions_ytrain = grad_rf.predict(X_train)\n",
    "    return (predictions, X_test, y_test,predictions_ytrain, grad_rf)"
   ]
  },
  {
   "cell_type": "code",
   "execution_count": 302,
   "id": "b1dd5f08",
   "metadata": {},
   "outputs": [
    {
     "name": "stdout",
     "output_type": "stream",
     "text": [
      "Intercept = 3.882579102634076\n",
      "Coefficients = [0.0002049704964565516, 1.5307417186795445e-07, -2.9586623567976157e-06, 0.04598021019709961, -0.01791495836983708]\n",
      "Shape of Inputs = (8812, 5)\n",
      "Shape of Target = (8812,)\n",
      "Shape of Inputs = (2204, 5)\n",
      "Shape of Target = (2204,)\n"
     ]
    }
   ],
   "source": [
    "Pedicted_Scores_L, X_test_L, y_test_L,y_train_L, linReg = ModelBuilding_LinearRegression(df_train, df_test)\n",
    "Pedicted_Scores_R, X_test_R, y_test_R,y_train_R, RandF = ModelBuilding_RandomForest_Regressor(df_train, df_test)\n",
    "Pedicted_Scores_D, X_test_D, y_test_D,y_train_D, DecT = ModelBuilding_DecisionTree_Regressor(df_train, df_test)\n",
    "Predicted_Scores_RG, X_test_RG, y_test_RG,y_train_RG, DecTRG = ModelBuilding_RandomForest_Regressor_GreadSearch(df_train, df_test)\n"
   ]
  },
  {
   "cell_type": "code",
   "execution_count": 340,
   "id": "b9451c10",
   "metadata": {},
   "outputs": [
    {
     "name": "stdout",
     "output_type": "stream",
     "text": [
      "Mean Absolute Error (MAE): 0.22592631503034183\n",
      "Mean Squared Error (MSE): 0.09190755936794066\n",
      "Root Mean Squared Error (RMSE): 0.3031625955950712\n"
     ]
    }
   ],
   "source": [
    "# evaluate the performance of the LinearRegression\n",
    "print('Mean Absolute Error (MAE):', metrics.mean_absolute_error(y_test_L, Pedicted_Scores_L))\n",
    "print('Mean Squared Error (MSE):', metrics.mean_squared_error(y_test_L, Pedicted_Scores_L))\n",
    "print('Root Mean Squared Error (RMSE):', np.sqrt(metrics.mean_squared_error(y_test_L, Pedicted_Scores_L)))\n"
   ]
  },
  {
   "cell_type": "code",
   "execution_count": 341,
   "id": "a6c8c4b3",
   "metadata": {},
   "outputs": [
    {
     "name": "stdout",
     "output_type": "stream",
     "text": [
      "Mean Absolute Error (MAE): 0.23472376091089792\n",
      "Mean Squared Error (MSE): 0.101020021006866\n",
      "Root Mean Squared Error (RMSE): 0.3178364689692893\n"
     ]
    }
   ],
   "source": [
    "# evaluate the performance of the Random Forest Regressor\n",
    "print('Mean Absolute Error (MAE):', metrics.mean_absolute_error(y_test_R, Pedicted_Scores_R))\n",
    "print('Mean Squared Error (MSE):', metrics.mean_squared_error(y_test_R, Pedicted_Scores_R))\n",
    "print('Root Mean Squared Error (RMSE):', np.sqrt(metrics.mean_squared_error(y_test_R, Pedicted_Scores_R)))\n"
   ]
  },
  {
   "cell_type": "code",
   "execution_count": 342,
   "id": "f8c357cb",
   "metadata": {},
   "outputs": [
    {
     "name": "stdout",
     "output_type": "stream",
     "text": [
      "Mean Absolute Error (MAE): 0.30001209921355115\n",
      "Mean Squared Error (MSE): 0.1588877243395846\n",
      "Root Mean Squared Error (RMSE): 0.3986072306664602\n"
     ]
    }
   ],
   "source": [
    "# evaluate the performance of the Decision Tree Regressor\n",
    "print('Mean Absolute Error (MAE):', metrics.mean_absolute_error(y_test_D, Pedicted_Scores_D))\n",
    "print('Mean Squared Error (MSE):', metrics.mean_squared_error(y_test_D, Pedicted_Scores_D))\n",
    "print('Root Mean Squared Error (RMSE):', np.sqrt(metrics.mean_squared_error(y_test_D, Pedicted_Scores_D)))\n"
   ]
  },
  {
   "cell_type": "code",
   "execution_count": 306,
   "id": "4ade682f",
   "metadata": {},
   "outputs": [
    {
     "name": "stdout",
     "output_type": "stream",
     "text": [
      "Mean Absolute Error (MAE): 0.21615904142292475\n",
      "Mean Squared Error (MSE): 0.08435912162125755\n",
      "Root Mean Squared Error (RMSE): 0.2904464178144698\n",
      "Model Score on Test Data:  0.10359497481468916\n"
     ]
    }
   ],
   "source": [
    "# evaluate the performance of the Random Forest Gread Search\n",
    "print('Mean Absolute Error (MAE):', metrics.mean_absolute_error(y_test_RG, Predicted_Scores_RG))\n",
    "print('Mean Squared Error (MSE):', metrics.mean_squared_error(y_test_RG, Predicted_Scores_RG))\n",
    "print('Root Mean Squared Error (RMSE):', np.sqrt(metrics.mean_squared_error(y_test_RG, Predicted_Scores_RG))) \n"
   ]
  },
  {
   "cell_type": "markdown",
   "id": "4ba7bc25",
   "metadata": {},
   "source": [
    "## score"
   ]
  },
  {
   "cell_type": "code",
   "execution_count": 336,
   "id": "9078b6a2",
   "metadata": {},
   "outputs": [],
   "source": [
    "l2 = []\n",
    "l2.append(('Linear Regression', metrics.mean_squared_error(y_test_L, Pedicted_Scores_L)))\n",
    "l2.append(('Random Forest', metrics.mean_squared_error(y_test_R, Pedicted_Scores_R)))\n",
    "l2.append(('Decision tree regressor', metrics.mean_squared_error(y_test_D, Pedicted_Scores_D)))\n",
    "l2.append(('Random Forest Gread Search', metrics.mean_squared_error(y_test_RG, Predicted_Scores_RG)))\n",
    "\n",
    "Report = pd.DataFrame(l2, columns =['Model', 'Mean Squared Error (MSE)'])"
   ]
  },
  {
   "cell_type": "code",
   "execution_count": 337,
   "id": "b2fda91d",
   "metadata": {},
   "outputs": [
    {
     "data": {
      "text/html": [
       "<div>\n",
       "<style scoped>\n",
       "    .dataframe tbody tr th:only-of-type {\n",
       "        vertical-align: middle;\n",
       "    }\n",
       "\n",
       "    .dataframe tbody tr th {\n",
       "        vertical-align: top;\n",
       "    }\n",
       "\n",
       "    .dataframe thead th {\n",
       "        text-align: right;\n",
       "    }\n",
       "</style>\n",
       "<table border=\"1\" class=\"dataframe\">\n",
       "  <thead>\n",
       "    <tr style=\"text-align: right;\">\n",
       "      <th></th>\n",
       "      <th>Model</th>\n",
       "      <th>Mean Squared Error (MSE)</th>\n",
       "    </tr>\n",
       "  </thead>\n",
       "  <tbody>\n",
       "    <tr>\n",
       "      <th>0</th>\n",
       "      <td>Linear Regression</td>\n",
       "      <td>0.091908</td>\n",
       "    </tr>\n",
       "    <tr>\n",
       "      <th>1</th>\n",
       "      <td>Random Forest</td>\n",
       "      <td>0.101020</td>\n",
       "    </tr>\n",
       "    <tr>\n",
       "      <th>2</th>\n",
       "      <td>Decision tree regressor</td>\n",
       "      <td>0.158888</td>\n",
       "    </tr>\n",
       "    <tr>\n",
       "      <th>3</th>\n",
       "      <td>Random Forest Gread Search</td>\n",
       "      <td>0.084359</td>\n",
       "    </tr>\n",
       "  </tbody>\n",
       "</table>\n",
       "</div>"
      ],
      "text/plain": [
       "                        Model  Mean Squared Error (MSE)\n",
       "0           Linear Regression                  0.091908\n",
       "1               Random Forest                  0.101020\n",
       "2     Decision tree regressor                  0.158888\n",
       "3  Random Forest Gread Search                  0.084359"
      ]
     },
     "execution_count": 337,
     "metadata": {},
     "output_type": "execute_result"
    }
   ],
   "source": [
    "Report"
   ]
  },
  {
   "cell_type": "markdown",
   "id": "5e83c9cb",
   "metadata": {},
   "source": [
    "From the report i will choose the Random Forest Gread Search Model because it is the one which has the lower Mean square error"
   ]
  }
 ],
 "metadata": {
  "kernelspec": {
   "display_name": "GillesEnv",
   "language": "python",
   "name": "gillesenv"
  },
  "language_info": {
   "codemirror_mode": {
    "name": "ipython",
    "version": 3
   },
   "file_extension": ".py",
   "mimetype": "text/x-python",
   "name": "python",
   "nbconvert_exporter": "python",
   "pygments_lexer": "ipython3",
   "version": "3.8.8"
  }
 },
 "nbformat": 4,
 "nbformat_minor": 5
}
